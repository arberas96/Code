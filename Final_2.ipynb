{
  "nbformat": 4,
  "nbformat_minor": 0,
  "metadata": {
    "colab": {
      "name": "Final_2.ipynb",
      "provenance": [],
      "collapsed_sections": [],
      "include_colab_link": true
    },
    "kernelspec": {
      "name": "python3",
      "display_name": "Python 3"
    }
  },
  "cells": [
    {
      "cell_type": "markdown",
      "metadata": {
        "id": "view-in-github",
        "colab_type": "text"
      },
      "source": [
        "<a href=\"https://colab.research.google.com/github/arberas96/Code/blob/master/Final_2.ipynb\" target=\"_parent\"><img src=\"https://colab.research.google.com/assets/colab-badge.svg\" alt=\"Open In Colab\"/></a>"
      ]
    },
    {
      "cell_type": "code",
      "metadata": {
        "id": "wSwTplISBFMS",
        "colab_type": "code",
        "colab": {}
      },
      "source": [
        "!pip install nx_altair #COPIA\n",
        "!pip install gender_guesser\n",
        "!pip install python-Levenshtein"
      ],
      "execution_count": 0,
      "outputs": []
    },
    {
      "cell_type": "code",
      "metadata": {
        "id": "BKjvaf5J5n9W",
        "colab_type": "code",
        "colab": {}
      },
      "source": [
        "import pandas as pd\n",
        "import numpy as np\n",
        "import scipy as spy\n",
        "from collections import Counter\n",
        "from Levenshtein import distance as lev_distance\n",
        "from Levenshtein import ratio\n",
        "import gender_guesser.detector as gender\n",
        "import nltk\n",
        "import math\n",
        "import networkx as nx\n",
        "import nx_altair as nxa\n",
        "import altair as alt\n",
        "from networkx.drawing.nx_pydot import write_dot\n",
        "import random\n",
        "import geopy.distance\n",
        "from datetime import datetime\n",
        "from datetime import date\n",
        "from nx_altair.core import to_pandas_nodes, to_pandas_edges_arrows, to_pandas_edges\n",
        "from nx_altair.draw_altair import draw_networkx_nodes, draw_networkx_labels, draw_networkx_arrows\n",
        "nltk.download('punkt')\n",
        "nltk.download('averaged_perceptron_tagger')\n",
        "nltk.download('tagsets')"
      ],
      "execution_count": 0,
      "outputs": []
    },
    {
      "cell_type": "code",
      "metadata": {
        "id": "xge3o17t5sM0",
        "colab_type": "code",
        "colab": {}
      },
      "source": [
        "from google.colab import files\n",
        "files.upload()"
      ],
      "execution_count": 0,
      "outputs": []
    },
    {
      "cell_type": "code",
      "metadata": {
        "id": "chuQVsHs5-Qk",
        "colab_type": "code",
        "colab": {}
      },
      "source": [
        "depositions_df=pd.read_json('all_depositions_1.json')"
      ],
      "execution_count": 0,
      "outputs": []
    },
    {
      "cell_type": "code",
      "metadata": {
        "id": "FvDBS4-2w6e8",
        "colab_type": "code",
        "colab": {}
      },
      "source": [
        "depositions_df"
      ],
      "execution_count": 0,
      "outputs": []
    },
    {
      "cell_type": "code",
      "metadata": {
        "id": "JRwvfDNUIRjI",
        "colab_type": "code",
        "colab": {}
      },
      "source": [
        "#Añadimos un asterisco, *, en caso de no haber 'forename' o 'surname'\n",
        "#for i in range(len(depositions_df)):\n",
        "#  for persona in depositions_df.iloc[i]['people_list']:\n",
        "#    if 'forename' not in persona.keys():\n",
        "#      persona['forename']='None'\n",
        "#    if 'surname' not in persona.keys():\n",
        "#      persona['surname']='None'"
      ],
      "execution_count": 0,
      "outputs": []
    },
    {
      "cell_type": "code",
      "metadata": {
        "id": "ZS3j6JmXJw3H",
        "colab_type": "code",
        "colab": {}
      },
      "source": [
        "#for i in range(len(depositions_df)):\n",
        "#  for persona in depositions_df.iloc[i]['people_list']:\n",
        "#    nombre_sep=persona['forename'].split()\n",
        "#    nombre=nombre_sep[0]\n",
        "#    if len(nombre_sep)>1:\n",
        "#      for palabra in range(1,len(nombre_sep)):\n",
        "#        nombre=nombre+' '+nombre_sep[palabra]\n",
        "#    persona['forename']=nombre\n",
        "\n"
      ],
      "execution_count": 0,
      "outputs": []
    },
    {
      "cell_type": "code",
      "metadata": {
        "id": "mTfDzdsvClY6",
        "colab_type": "code",
        "colab": {}
      },
      "source": [
        "#for i in range(4880,len(depositions_df)):\n",
        "#  for persona in depositions_df.iloc[i]['people_list']:\n",
        "#    if 'sex' not in persona.keys() or int(persona['sex'])==3:\n",
        "#      sexo_estim=gender.Detector().get_gender(persona['forename'])\n",
        "#      if sexo_estim=='male' or sexo_estim=='mostly_male':\n",
        "#        sexo_estim=1\n",
        "#      elif sexo_estim=='female' or sexo_estim=='mostly_female':\n",
        "#        sexo_estim=2\n",
        "#      else:\n",
        "#        sexo_estim=3\n",
        "#      persona['sex']=sexo_estim"
      ],
      "execution_count": 0,
      "outputs": []
    },
    {
      "cell_type": "markdown",
      "metadata": {
        "id": "Hpub-PgjRPm5",
        "colab_type": "text"
      },
      "source": [
        "Funciones auxiliares:"
      ]
    },
    {
      "cell_type": "code",
      "metadata": {
        "id": "0UGcGXjR9e5S",
        "colab_type": "code",
        "colab": {}
      },
      "source": [
        "#Conseguimos indx2person, person2indx, indx2role:\n",
        "\n",
        "name_counter = Counter()\n",
        "people_list = depositions_df['people_list'].tolist()\n",
        "names_list = []\n",
        "person2indx = {}\n",
        "#All participants have only one role (checked)\n",
        "indx2role = {}\n",
        "for i, dep_part in enumerate(people_list):\n",
        "    names = []\n",
        "    for person in dep_part:\n",
        "        person_str = ''\n",
        "        if 'forename' in person:\n",
        "            person_str += person['forename']\n",
        "        else:\n",
        "            person_str += 'None'\n",
        "        person_str += ' '\n",
        "        \n",
        "        if 'surname' in person:\n",
        "            person_str += person['surname']\n",
        "        else:\n",
        "            person_str += 'None'\n",
        "    \n",
        "        if person_str not in person2indx:\n",
        "            idx = len(person2indx)\n",
        "            person2indx[person_str] = idx\n",
        "            indx2role[idx] = {i : person['role']}\n",
        "        else:\n",
        "            idx = person2indx[person_str]\n",
        "            indx2role[idx][i] = person['role']\n",
        "        name_counter[person_str] += 1\n",
        "        names.append(person_str)\n",
        "    names_list.append(names)\n",
        "\n",
        "indx2person = {v:k for k,v in person2indx.items()}"
      ],
      "execution_count": 0,
      "outputs": []
    },
    {
      "cell_type": "code",
      "metadata": {
        "id": "tyjP_V7COx1W",
        "colab_type": "code",
        "colab": {}
      },
      "source": [
        "#Similitud de Jaccard:\n",
        "\n",
        "def jaccard_similarity(list1, list2):\n",
        "    s1 = set(list1)\n",
        "    s2 = set(list2)\n",
        "    if len(s1.union(s2))!=0:\n",
        "      return len(s1.intersection(s2)) / len(s1.union(s2))"
      ],
      "execution_count": 0,
      "outputs": []
    },
    {
      "cell_type": "code",
      "metadata": {
        "id": "koA9mz0fZAE4",
        "colab_type": "code",
        "colab": {}
      },
      "source": [
        "#Union de listas sin repetición:\n",
        "\n",
        "def union(lista_1,lista_2):\n",
        "  in_first = set(lista_1)\n",
        "  in_second = set(lista_2)\n",
        "\n",
        "  in_second_but_not_in_first = in_second - in_first\n",
        "  return lista_1 + list(in_second_but_not_in_first)\n",
        " "
      ],
      "execution_count": 0,
      "outputs": []
    },
    {
      "cell_type": "code",
      "metadata": {
        "id": "SsuZCNRlXVRw",
        "colab_type": "code",
        "colab": {}
      },
      "source": [
        "contador=0\n",
        "for i in range(len(indx2role)):\n",
        "  for j in range(len(indx2role[i])):\n",
        "    contador+=1\n"
      ],
      "execution_count": 0,
      "outputs": []
    },
    {
      "cell_type": "markdown",
      "metadata": {
        "id": "XG0g00iECxaE",
        "colab_type": "text"
      },
      "source": [
        "Primera variable: $G_{i,j}$"
      ]
    },
    {
      "cell_type": "code",
      "metadata": {
        "id": "V1qOWFnPING2",
        "colab_type": "code",
        "colab": {}
      },
      "source": [
        "#Vamos a definir una función que saque todos los participantes que coinciden con cierta persona, dada por su index.\n",
        "#Entrada: indx de la persona\n",
        "#Salida: lista de todas las personas con las que coincide en los distintos testimonios\n",
        "\n",
        "#Aquí estamos sacando als personas que coinciden en todas las deposition para cada índice. Sin embargo, lo que nos interesa es saber para cada índice el número de personas.\n",
        "#Lo único que necesitamos, por lo tanto, es una función que nos devuelva la lista de participantes de una deposition determinada. (Para después trabajar con ello y sacar el índice de Jaccard.)\n",
        "\n",
        "#Tenemos dos funciones: participantes_no_confirm y participantes_confirm:\n",
        "\n",
        "# -participantes_no_confirm: Si tenemos una persona que no sabemos si es la misma que otra, quiere decir que esa persona en principio se supone que solo aparece en una deposition. Por lo tanto,\n",
        "# las personas con las que va a aparecer son las mismas que con las que aparece en dicha deposition. Por lo que, únicamente nos hace falta saber la deposition de la persona que estamos analizando.\n",
        "\n",
        "# -participantes_confirm: Esta nos da todas las personas en las que aparece la persona que estamos analizando. Cuando creemos nuestros grupos de personas confirmadas tendrán que ser un diccionario similar\n",
        "# al de indx2role, pero cada persona tendrá asociadas las deposition en las que se repite su aparición. (Es decir, cuando tengas esto creado, en caso de ir encontrando gente que se parece, vas a tener \n",
        "# que cambiar en esta función donde aparece indx2role por el nombre del conjunto donde aparezcan todos esos grupos de gente confirmada.)\n",
        "\n",
        "def participantes_no_confirm(deposition):\n",
        "  participantes=list()\n",
        "  for person in depositions_df.iloc[deposition]['people_list']:\n",
        "    if 'forename' in person.keys() and 'surname' in person.keys(): #No se si es necesario, ya que creo que en caso de no tener nombre o apellido, se representaría con un asterisco.\n",
        "      persona=person['forename']+' '+person['surname']\n",
        "    elif 'forename' in person.keys() and 'surename' not in person.keys():\n",
        "      persona=person['forename']\n",
        "    elif 'forename' not in person.keys() and 'surename' in person.keys():\n",
        "      persona=person['surename']\n",
        "    if persona not in participantes:\n",
        "      participantes.append(persona)\n",
        "  return participantes\n",
        "\n",
        "\n",
        "#Cuando tengamos una persona \"confirmada\", entonces lo que tendremos será una persona que aparece en más de una deposition. En ese momento se tendrá que usar esta función.\n",
        "\n",
        "def participantes_confirm(persona):\n",
        "  if isinstance(persona,str):\n",
        "    persona=person2indx[persona]\n",
        "  participantes=list()\n",
        "  for deposition in indx2role[persona].keys(): #En el momento en el que tengamos un grupo confirmado, vamos a poder generar un diccionario de diccionarios, similar a indx2role, pero con las deposition en las que aparece ciero índice.\n",
        "    for person in depositions_df.iloc[deposition]['people_list']:\n",
        "      if 'forename' in person.keys() and 'surname' in person.keys(): #No se si es necesario, ya que creo que en caso de no tener nombre o apellido, se representaría con un asterisco.\n",
        "        persona=person['forename']+' '+person['surname']\n",
        "      elif 'forename' in person.keys() and 'surename' not in person.keys():\n",
        "        persona=person['forename']\n",
        "      elif 'forename' not in person.keys() and 'surename' in person.keys():\n",
        "        persona=person['surename']\n",
        "      if persona not in participantes:\n",
        "        participantes.append(persona)\n",
        "  return participantes\n",
        "\n",
        "\n",
        "\n"
      ],
      "execution_count": 0,
      "outputs": []
    },
    {
      "cell_type": "code",
      "metadata": {
        "id": "0vaHHAJ7xbP3",
        "colab_type": "code",
        "colab": {}
      },
      "source": [
        "### Aquí se calcula el índice de Jaccard de los participantes coincidentes de ambas personas que estamos analizando.\n",
        "### Importante: Acuerdate de que cuando crees los grupos confirmados, tienes que cambiar la función de participantes_confirm.\n",
        "\n",
        "## Nota: esta función se puede hacer variable en cuanto a los argumentos. Una idea sería poner todos como None, o un valor neutral, para que el usuario o quien vaya a usar dicha función solo meta lo que necesita.\n",
        "## Es decir, que se introduzca la deposition de una persona en caso de no estar confirmada o el nombre de una persona en caso de ser confirmada.\n",
        "\n",
        "#def G(persona_1=None, deposition_1=None, confirm_1=False, persona_2=None, deposition_2=None, confirm_2=False):\n",
        "def GG(deposition_1,deposition_2):\n",
        "  participantes_1=participantes_no_confirm(deposition_1)\n",
        "  participantes_2=participantes_no_confirm(deposition_2)\n",
        "  return jaccard_similarity(participantes_1,participantes_2)"
      ],
      "execution_count": 0,
      "outputs": []
    },
    {
      "cell_type": "markdown",
      "metadata": {
        "id": "wBmAhOruTnbp",
        "colab_type": "text"
      },
      "source": [
        "Segunda variable: $D_{i,j}$"
      ]
    },
    {
      "cell_type": "code",
      "metadata": {
        "id": "V6DTNziCTubg",
        "colab_type": "code",
        "colab": {}
      },
      "source": [
        "#En este caso tenemos dos situaciones diferentes. Una persona puede estar en un grupo confirmado, lo que indicaría que está en más de una deposition y, por lo tanto, puede que le haya cogido declaración más de un deponent.\n",
        "#O puede que una persona esté en una única deposition y, por lo tanto, solo tenga un deponent.\n",
        "\n",
        "#Primero vamos a crear una función que dado un deponent busque a todas las personas a las que ha tomado declaración.\n",
        "\n",
        "#Entrada: el deponent puesto con su indx o su nombre, indiferente.\n",
        "\n",
        "def declaracion(deponent):\n",
        "  if isinstance(deponent,str):\n",
        "    deponent=person2indx[deponent]\n",
        "  personas_total=list()\n",
        "  for deposition in indx2role[deponent].keys():\n",
        "    if indx2role[deponent][deposition]=='Deponent' or indx2role[deponent][deposition]=='deponent':\n",
        "      personas=participantes_no_confirm(deposition)\n",
        "      personas_total=union(personas_total,personas)\n",
        "  return personas_total\n",
        "\n",
        "#Lo que devolvemos es una lista con todas las personas a las que les ha cogido testimonio cierto deponent.\n",
        "  \n",
        "\n"
      ],
      "execution_count": 0,
      "outputs": []
    },
    {
      "cell_type": "code",
      "metadata": {
        "id": "cD2gYcXd3J6_",
        "colab_type": "code",
        "colab": {}
      },
      "source": [
        "# Dada una deposition, vamos a buscar su deponent.\n",
        "# No podemos dar la persona, ya que en caso de coincidir en el nombre con otra que tampoco esté confirmada tendríamos el problema de tener más de un deponent.\n",
        "def search_deponent(deposition):\n",
        "  deponent=0\n",
        "  for persona in depositions_df.iloc[deposition]['people_list']:\n",
        "    if 'role' in persona.keys():\n",
        "      if persona['role']=='Deponent':\n",
        "        deponent=persona['forename']+' '+persona['surname'] #Estamos asumiendo que el deponent tiene siempre 'forename' y 'surname'\n",
        "      elif persona['role']=='deponent':\n",
        "        deponent=persona['forename']+' '+persona['surname']\n",
        "    if deponent!=0:\n",
        "      break\n",
        "  return deponent"
      ],
      "execution_count": 0,
      "outputs": []
    },
    {
      "cell_type": "code",
      "metadata": {
        "id": "VyQ2hSzG4Kym",
        "colab_type": "code",
        "colab": {}
      },
      "source": [
        "# En este caso volvemos a tener dos personas que no están confirmadas. Si lo estuviesen tendríamos más de una deposition. Esto habrá que cambiarlo en un futuro también!!!!\n",
        "def D(deposition_1, deposition_2):\n",
        "  deponent_1=search_deponent(deposition_1)\n",
        "  deponent_2=search_deponent(deposition_2)\n",
        "  if deponent_1==deponent_2: #En caso de que los deponents sean el mismo, su índice de Jaccard sería 1. Vamos a penalizar un poco ese resultado hasta que se nos ocurra uno mejor.\n",
        "    return 0.8\n",
        "  else:\n",
        "    personas_1=declaracion(deponent_1)\n",
        "    personas_2=declaracion(deponent_2)\n",
        "    return jaccard_similarity(personas_1,personas_2)"
      ],
      "execution_count": 0,
      "outputs": []
    },
    {
      "cell_type": "markdown",
      "metadata": {
        "id": "dGFTYA7CgKJK",
        "colab_type": "text"
      },
      "source": [
        "Tercera variable: $A_{i,j}$"
      ]
    },
    {
      "cell_type": "code",
      "metadata": {
        "id": "caVijqksKnEi",
        "colab_type": "code",
        "colab": {}
      },
      "source": [
        "##Sacamos cuales son las estructuras más comunes.\n"
      ],
      "execution_count": 0,
      "outputs": []
    },
    {
      "cell_type": "code",
      "metadata": {
        "id": "9NbYzMhBgUMw",
        "colab_type": "code",
        "colab": {}
      },
      "source": [
        "#Para esto lo único que hay que hacer es una división, entre el número de cambios por el número de letras del apellido más largo.\n",
        "#Como lo que queremos es que cuanto más similares sean dos nombres más cercanos estén de 1, entonces tenemos que hacer 1-división.\n",
        "\n",
        "def Aij(nombre_1,nombre_2):\n",
        "  if isinistance(nombre_1,int):\n",
        "    nombre_1=indx2person[nombre_1]\n",
        "  if isinistance(nombre_2,int):\n",
        "    nombre_2=indx2person[nombre_2]\n",
        "  "
      ],
      "execution_count": 0,
      "outputs": []
    },
    {
      "cell_type": "markdown",
      "metadata": {
        "id": "GEqxWY5uWFGY",
        "colab_type": "text"
      },
      "source": [
        "Cuarta variable: $r_{i,j}$"
      ]
    },
    {
      "cell_type": "code",
      "metadata": {
        "id": "WRTiSHgjdEWS",
        "colab_type": "code",
        "colab": {}
      },
      "source": [
        "#Esta función nos devuelve la distancia en kilometros entre dos pueblos (siempre y cuando existan coordenadas).\n",
        "#Entrada: ahora de momento el índice de la línea en el que viene la deposition.\n",
        "\n",
        "def distance(town_1,town_2):\n",
        "  if math.isnan(depositions_df.iloc[town_1]['deponent_town_lat']) or math.isnan(depositions_df.iloc[town_1]['deponent_town_lng']) or math.isnan(depositions_df.iloc[town_2]['deponent_town_lat']) or math.isnan(depositions_df.iloc[town_2]['deponent_town_lng']):\n",
        "    #raise ValueError('Alguna no tiene suficientes argumentos')\n",
        "    return 0\n",
        "  else:\n",
        "    coords_1=list()\n",
        "    coords_1.append(depositions_df.iloc[town_1]['deponent_town_lat'])\n",
        "    coords_1.append(depositions_df.iloc[town_1]['deponent_town_lng'])\n",
        "    coords_1=tuple(coords_1)\n",
        "    coords_2=list()\n",
        "    coords_2.append(depositions_df.iloc[town_2]['deponent_town_lat'])\n",
        "    coords_2.append(depositions_df.iloc[town_2]['deponent_town_lng'])\n",
        "    coords_2=tuple(coords_2)\n",
        "    return geopy.distance.vincenty(coords_1, coords_2).km\n"
      ],
      "execution_count": 0,
      "outputs": []
    },
    {
      "cell_type": "markdown",
      "metadata": {
        "id": "R0u3KO3BKKFw",
        "colab_type": "text"
      },
      "source": [
        "Quinta variable: $S_{i,j}$"
      ]
    },
    {
      "cell_type": "code",
      "metadata": {
        "id": "uCcDQHU9eWzL",
        "colab_type": "code",
        "colab": {}
      },
      "source": [
        "def person_in_deposition(persona, deposition):\n",
        "  for i in range(len(depositions_df.iloc[deposition]['people_list'])):\n",
        "    nombre=depositions_df.iloc[deposition]['people_list'][i]['forename']+' '+depositions_df.iloc[deposition]['people_list'][i]['surname']\n",
        "    if persona==nombre:\n",
        "      break\n",
        "  return depositions_df.iloc[deposition]['people_list'][i]\n",
        "  "
      ],
      "execution_count": 0,
      "outputs": []
    },
    {
      "cell_type": "code",
      "metadata": {
        "id": "gIV-uN4HKXmK",
        "colab_type": "code",
        "colab": {}
      },
      "source": [
        "def obtain_sex(persona, deposition):\n",
        "  dictionary=person_in_deposition(persona,deposition)\n",
        "  if 'sex' in dictionary.keys():\n",
        "    return dictionary['sex']\n",
        "  else:\n",
        "    return 0\n",
        "\n",
        "\n",
        "def Sex(persona_1, deposition_1, persona_2, deposition_2):\n",
        "  if isinstance(persona_1,int):\n",
        "    persona_1=indx2person[persona_1]\n",
        "  if isinstance(persona_2,int):\n",
        "    persona_2=indx2person[persona_2]\n",
        "  sexo_1=int(obtain_sex(persona_1,deposition_1))\n",
        "  sexo_2=int(obtain_sex(persona_2, deposition_2))\n",
        "  if sexo_1==0 or sexo_2==0 or sexo_1==3 or sexo_2==3:\n",
        "    return 0.8\n",
        "  elif sexo_1==sexo_2:\n",
        "    return 1\n",
        "  else:\n",
        "    return 0.3\n",
        "  "
      ],
      "execution_count": 0,
      "outputs": []
    },
    {
      "cell_type": "markdown",
      "metadata": {
        "id": "bJ1Al_Tnf2lv",
        "colab_type": "text"
      },
      "source": [
        "Sexta y séptima variables: $R_{i,j}$ y $O_{i,j}$"
      ]
    },
    {
      "cell_type": "code",
      "metadata": {
        "id": "vR6alsMSebNj",
        "colab_type": "code",
        "colab": {}
      },
      "source": [
        "\n",
        "def obtain_role(persona,deposition):\n",
        "  if deposition in indx2role[persona].keys():\n",
        "    return indx2role[persona][deposition]\n",
        "  else:\n",
        "    return 0\n",
        "\n",
        "def Role(persona_1,deposition_1,persona_2,deposition_2):\n",
        "  if isinstance(persona_1,str):\n",
        "    persona_1=person2indx[persona_1]\n",
        "  if isinstance(persona_2, str):\n",
        "    persona_2=person2indx[persona_2]\n",
        "  role_1=obtain_role(persona_1,deposition_1)\n",
        "  role_2=obtain_role(persona_2,deposition_2)\n",
        "  if role_1==0 or role_2==0:\n",
        "    return 0.9\n",
        "  elif role_1==role_2:\n",
        "    return 1\n",
        "  else:\n",
        "    return 0.7\n",
        "  "
      ],
      "execution_count": 0,
      "outputs": []
    },
    {
      "cell_type": "code",
      "metadata": {
        "id": "FAryy_cyzl8c",
        "colab_type": "code",
        "colab": {}
      },
      "source": [
        "\n",
        "###Esto es para la occupation pero es algo más complejo, así que ya lo harás!!!! (Es lo de las diferentes particiones en cuanto nombre y apellido)\n",
        "def obtain_occupation(persona, deposition):\n",
        "  dictionary=person_in_deposition(persona,deposition)\n",
        "  if 'occupation' in dictionary.keys():\n",
        "    return dictionary['occupation']\n",
        "  else:\n",
        "    return 0\n",
        "\n",
        "\n",
        "def Occupation(persona_1, deposition_1, persona_2, deposition_2):\n",
        "  if isinstance(persona_1,int):\n",
        "    persona_1=indx2person[persona_1]\n",
        "  if isinstance(persona_2,int):\n",
        "    persona_2=indx2person[persona_2]\n",
        "  occupation_1=obtain_occupation(persona_1,deposition_1)\n",
        "  occupation_2=obtain_occupation(persona_2, deposition_2)\n",
        "  if occupation_1==0 or occupation_2==0:\n",
        "    return 0.9\n",
        "  elif occupation_1==occupation_2:\n",
        "    return 1\n",
        "  else:\n",
        "    return 0.7"
      ],
      "execution_count": 0,
      "outputs": []
    },
    {
      "cell_type": "markdown",
      "metadata": {
        "id": "wpFYjlCKwSFA",
        "colab_type": "text"
      },
      "source": [
        "Octava variable: Gauss"
      ]
    },
    {
      "cell_type": "code",
      "metadata": {
        "id": "e6T86wQNfCZk",
        "colab_type": "code",
        "colab": {}
      },
      "source": [
        "#Esta función nos devuelve la diferencia de días entre depositions\n",
        "\n",
        "def get_year(deposition_1,deposition_2):\n",
        "  if isinstance(depositions_df.iloc[deposition_1]['creation_date'],str) and isinstance(depositions_df.iloc[deposition_2]['creation_date'],str):\n",
        "    date_1=depositions_df.iloc[deposition_1]['creation_date'].split('-')\n",
        "    date_2=depositions_df.iloc[deposition_2]['creation_date'].split('-')\n",
        "    diference=date(int(date_1[0]),int(date_1[1]),int(date_1[2]))-date(int(date_2[0]),int(date_2[1]),int(date_2[2]))\n",
        "    return abs(diference.days)\n",
        "  else:\n",
        "    return 200 #Vamos a poner un valor aleatorio de 200 días entre sí.\n",
        "\n"
      ],
      "execution_count": 0,
      "outputs": []
    },
    {
      "cell_type": "code",
      "metadata": {
        "id": "4NGQ5jz9wqTZ",
        "colab_type": "code",
        "colab": {}
      },
      "source": [
        "#Idea importante para Gauss: puedes determinar cuanto consideras que es suficiente tiempo como para que el resto de valores de ahí hacia delante sea 1 a la hora de\n",
        "#meterlo en la función de Gauss y de ahí para abajo realizar la división anterior.\n",
        "\n",
        "def Gauss(deposition_1,deposition_2): #En esta definición tengo que sacar la distancia máxima entre dos ciudades (d_max) y el número máximo de días (y_máx.)\n",
        "  year=1-((get_year(deposition_1,deposition_2))/9661)\n",
        "  distancia_depositions=distance(deposition_1,deposition_2)/453.32\n",
        "  return 1-math.exp(-((((year-1)**2)/(1/2))+(((distancia_depositions-1)**2)/(1/2))))"
      ],
      "execution_count": 0,
      "outputs": []
    },
    {
      "cell_type": "code",
      "metadata": {
        "id": "TrVuVPsqy_Hk",
        "colab_type": "code",
        "colab": {}
      },
      "source": [
        "Gauss(4890,471)"
      ],
      "execution_count": 0,
      "outputs": []
    },
    {
      "cell_type": "markdown",
      "metadata": {
        "id": "Ax4qFt_lwPqV",
        "colab_type": "text"
      },
      "source": [
        "Variable final: $M_{i,j}$"
      ]
    },
    {
      "cell_type": "markdown",
      "metadata": {
        "id": "TuhEnunTsoCV",
        "colab_type": "text"
      },
      "source": [
        "$M_{i,j}=(\\alpha * Levratio_{i,j}+\\beta * Gauss_{i,j}+\\gamma * (\\gamma_{1}*G_{i,j}+\\gamma_{2}*D_{i,j}))*S_{i,j}*R_{i,j}*O_{i,j}$"
      ]
    },
    {
      "cell_type": "code",
      "metadata": {
        "id": "Z7i9r_GgsnKw",
        "colab_type": "code",
        "colab": {}
      },
      "source": [
        "def M_2(persona_1,deposition_1,persona_2,deposition_2):\n",
        "  alpha=0.55\n",
        "  beta=0.35\n",
        "  gamma=0.1\n",
        "  gamma_1=0.6\n",
        "  gamma_2=0.4\n",
        "  return (alpha*ratio(persona_1,persona_2)+beta*Gauss(deposition_1,deposition_2)+gamma*(gamma_1*GG(deposition_1,deposition_2)+gamma_2*D(deposition_1,deposition_2)))*Sex(persona_1,deposition_1,persona_2,deposition_2)*Role(persona_1,deposition_1,persona_2,deposition_2)*Occupation(persona_1,deposition_1,persona_2,deposition_2)"
      ],
      "execution_count": 0,
      "outputs": []
    },
    {
      "cell_type": "markdown",
      "metadata": {
        "id": "oiAwTnaQCCIv",
        "colab_type": "text"
      },
      "source": [
        "## Funciones de nx-altair"
      ]
    },
    {
      "cell_type": "markdown",
      "metadata": {
        "id": "mdKErXRWDL2F",
        "colab_type": "text"
      },
      "source": [
        "Funciones de nx-altair con modificaciones"
      ]
    },
    {
      "cell_type": "code",
      "metadata": {
        "id": "AzsJoXuEHc3g",
        "colab_type": "code",
        "colab": {}
      },
      "source": [
        "def draw_networkx_edges(\n",
        "    G=None,\n",
        "    pos=None,\n",
        "    chart=None,\n",
        "    layer=None,\n",
        "    edgelist=None,\n",
        "    width=1,\n",
        "    alpha=1.0,\n",
        "    edge_color='black',\n",
        "    edge_cmap=None,\n",
        "    tooltip=None,\n",
        "    legend=False,\n",
        "    **kwargs):\n",
        "    \"\"\"Draw the edges of the graph G.\n",
        "    This draws only the edges of the graph G.\n",
        "    Parameters\n",
        "    ----------\n",
        "    G : graph\n",
        "       A networkx graph\n",
        "    pos : dictionary\n",
        "       A dictionary with nodes as keys and positions as values.\n",
        "       Positions should be sequences of length 2.\n",
        "    chart:\n",
        "    edgelist : collection of edge tuples\n",
        "       Draw only specified edges(default=G.edges())\n",
        "    width : float, or array of floats\n",
        "       Line width of edges (default=1.0)\n",
        "    edge_color : color string, or array of floats\n",
        "       Edge color. Can be a single color format string (default='r'),\n",
        "       or a sequence of colors with the same length as edgelist.\n",
        "       If numeric values are specified they will be mapped to\n",
        "       colors using the edge_cmap and edge_vmin,edge_vmax parameters.\n",
        "    alpha : float\n",
        "       The edge transparency (default=1.0)\n",
        "    edge_cmap : Matplotlib colormap\n",
        "       Colormap for mapping intensities of edges (default=None)\n",
        "    Returns\n",
        "    -------\n",
        "    viz: ``altair.Chart`` object\n",
        "    \"\"\"\n",
        "\n",
        "    if chart is None:\n",
        "        # Pandas dataframe of edges\n",
        "        df_edges = to_pandas_edges(G, pos)\n",
        "        \n",
        "\n",
        "        # Build a chart\n",
        "        edge_chart = alt.Chart(df_edges).properties(\n",
        "    width=600,\n",
        "    height=600)\n",
        "\n",
        "    else:\n",
        "        df_edges = chart.layer[0].data\n",
        "        edge_chart = chart.layer[0]\n",
        "\n",
        "    marker_attrs = {}\n",
        "    encoded_attrs = {}\n",
        "\n",
        "    # ---------- Handle arguments ------------\n",
        "\n",
        "    ###### node list argument\n",
        "    if isinstance(edgelist, list):\n",
        "        # Subset dataframe.\n",
        "        df_edges = df_edges.loc[df_edges['pair'].isin(edgelist)]\n",
        "\n",
        "    elif edgelist is not None:\n",
        "        raise Exception(\"nodelist must be a list or None.\")\n",
        "\n",
        "\n",
        "    ###### Node size\n",
        "    if isinstance(width, str):\n",
        "        encoded_attrs[\"size\"] = alt.Size(width, scale=alt.Scale(range=[1,4]), legend=None) #sort='descending'\n",
        "\n",
        "    elif isinstance(width, float) or isinstance(width, int):\n",
        "        marker_attrs[\"strokeWidth\"] = width\n",
        "\n",
        "    else:\n",
        "        raise Exception(\"width must be a string or int.\")\n",
        "\n",
        "    ###### node_color\n",
        "    if not isinstance(edge_color, str):\n",
        "        raise Exception(\"edge_color must be a string.\")\n",
        "\n",
        "    elif edge_color in df_edges.columns:\n",
        "        encoded_attrs[\"color\"] =alt.Color(edge_color, legend=None)\n",
        "\n",
        "    else:\n",
        "        marker_attrs[\"color\"] = edge_color\n",
        "\n",
        "    ##### alpha\n",
        "    if isinstance(alpha, str):\n",
        "        encoded_attrs[\"opacity\"] = alpha\n",
        "\n",
        "    elif isinstance(alpha, int) or isinstance(alpha, float):\n",
        "        marker_attrs[\"opacity\"] = alpha\n",
        "\n",
        "    elif alpha is not None:\n",
        "        raise Exception(\"alpha must be a string or None.\")\n",
        "\n",
        "    ##### alpha\n",
        "    if isinstance(edge_cmap, str):\n",
        "        encoded_attrs[\"color\"] = alt.Color(\n",
        "            edge_color,\n",
        "            legend=alt.Legend(title=\"M\",orient='top'),\n",
        "            scale=alt.Scale(scheme=edge_cmap,domain=(0,1)),type='quantitative')\n",
        "\n",
        "    elif edge_cmap is not None:\n",
        "        raise Exception(\"edge_cmap must be a string (colormap name) or None.\")\n",
        "\n",
        "    if tooltip is not None:\n",
        "        encoded_attrs['tooltip'] = tooltip\n",
        "\n",
        "    # ---------- Construct visualization ------------\n",
        "\n",
        "    # Draw edges\n",
        "    \n",
        "\n",
        "    #MOD: Ahora generamos las dos visualizaciones, aristas y nodos, teniendo\n",
        "    # en cuenta que se hace en dos capas diferentes y luego se juntan.\n",
        "    edge_chart = edge_chart.mark_line(size=50,**marker_attrs).encode(\n",
        "        alt.X('x',type='quantitative'),\n",
        "        alt.Y('y', type='quantitative'),\n",
        "        order=alt.Order('edge',type='nominal'),\n",
        "        **encoded_attrs\n",
        "    )\n",
        "\n",
        "    if chart is not None:\n",
        "        chart.layer[0] = edge_chart\n",
        "\n",
        "    return edge_chart #chart_tot"
      ],
      "execution_count": 0,
      "outputs": []
    },
    {
      "cell_type": "code",
      "metadata": {
        "id": "JadM5HxdSdxf",
        "colab_type": "code",
        "colab": {}
      },
      "source": [
        "def draw_networkx_edges_mark_bar(\n",
        "    G=None,\n",
        "    pos=None,\n",
        "    chart=None,\n",
        "    letra='J',\n",
        "    **kwargs):\n",
        "\n",
        "    if chart is None:\n",
        "        # Pandas dataframe of edges\n",
        "        df_edges = to_pandas_edges(G, pos)\n",
        "        \n",
        "\n",
        "        # Build a chart\n",
        "        edge_chart = alt.Chart(df_edges).properties(\n",
        "    width=200,\n",
        "    height=150)\n",
        "    else:\n",
        "        df_edges = chart.layer[0].data\n",
        "        edge_chart = chart.layer[0]\n",
        "\n",
        "    marker_attrs = {}\n",
        "    encoded_attrs = {}\n",
        "\n",
        "    # ---------- Construct visualization ------------\n",
        "\n",
        "    \n",
        "    edge_chart = edge_chart.mark_bar(size=12,**marker_attrs).encode(\n",
        "    x='pair',\n",
        "    y=alt.Y(letra, scale=alt.Scale(domain=(0,1))),\n",
        "    color=alt.Color('id:O', legend=None))\n",
        "\n",
        "    if chart is not None:\n",
        "        chart.layer[0] = edge_chart\n",
        "\n",
        "    return edge_chart #chart_tot"
      ],
      "execution_count": 0,
      "outputs": []
    },
    {
      "cell_type": "code",
      "metadata": {
        "colab_type": "code",
        "id": "y77oDCabmrM5",
        "colab": {}
      },
      "source": [
        "def draw_networkx_edges_circle_point(\n",
        "    G=None,\n",
        "    pos=None,\n",
        "    chart=None,\n",
        "    letra='J',\n",
        "    **kwargs):\n",
        "  \n",
        "    if chart is None:\n",
        "        # Pandas dataframe of edges\n",
        "        df_edges = to_pandas_edges(G, pos)\n",
        "        \n",
        "\n",
        "        # Build a chart\n",
        "        edge_chart = alt.Chart(df_edges).properties(\n",
        "    width=200,\n",
        "    height=50)\n",
        "    else:\n",
        "        df_edges = chart.layer[0].data\n",
        "        edge_chart = chart.layer[0]\n",
        "\n",
        "    marker_attrs = {}\n",
        "    encoded_attrs = {}\n",
        "\n",
        "    # ---------- Construct visualization ------------\n",
        "\n",
        "    valor='mean('+letra+')'\n",
        "\n",
        "    if letra=='Occupation_int':  \n",
        "      edge_chart = edge_chart.mark_circle(size=100).encode(\n",
        "      x=alt.X('pair',axis=alt.Axis(grid=False)),\n",
        "      y=alt.Y('y_point',title='Occupation',scale=alt.Scale(domain=(0,2)),axis=alt.Axis(grid=False)),\n",
        "      color=alt.Color(valor,legend=None,scale=alt.Scale(domain=(0.3,1))),\n",
        "      tooltip=alt.Tooltip(letra))\n",
        "    elif letra=='Sex_int':\n",
        "      edge_chart = edge_chart.mark_circle(size=100).encode(\n",
        "      x=alt.X('pair',axis=alt.Axis(grid=False)),\n",
        "      y=alt.Y('y_point',title='Sex',scale=alt.Scale(domain=(0,2)),axis=alt.Axis(grid=False)),\n",
        "      color=alt.Color(valor,legend=alt.Legend(title=\"Scale\",orient='left'),scale=alt.Scale(domain=(0.3,1))),\n",
        "      tooltip=alt.Tooltip(letra))\n",
        "    else:\n",
        "      edge_chart = edge_chart.mark_circle(size=100).encode(\n",
        "      x=alt.X('pair',axis=alt.Axis(grid=False)),\n",
        "      y=alt.Y('y_point',title='Role',scale=alt.Scale(domain=(0,2)),axis=alt.Axis(grid=False)),\n",
        "      color=alt.Color(valor,legend=None,scale=alt.Scale(domain=(0.3,1))),\n",
        "      tooltip=alt.Tooltip(letra))\n",
        "      \n",
        "    if chart is not None:\n",
        "        chart.layer[0] = edge_chart\n",
        "\n",
        "    return edge_chart"
      ],
      "execution_count": 0,
      "outputs": []
    },
    {
      "cell_type": "code",
      "metadata": {
        "id": "nFtRPrmpq_Wg",
        "colab_type": "code",
        "colab": {}
      },
      "source": [
        "def draw_heatmap_1(\n",
        "    G=None,\n",
        "    pos=None,\n",
        "    letra='J'):\n",
        "  \n",
        "  letra_2=letra[:-4]\n",
        "  \n",
        "  heatmap=alt.Chart(to_pandas_edges(H,pos)).properties(\n",
        "    width=100,\n",
        "    height=100).mark_rect().encode(\n",
        "    alt.X('target:O',title=None),\n",
        "    alt.Y('source:O',title=None),\n",
        "    color=alt.Color(letra,scale=alt.Scale(domain=[0,1])),\n",
        "    tooltip=alt.Tooltip(letra)\n",
        ").properties(title=letra_2).interactive()\n",
        "\n",
        "  return(heatmap)"
      ],
      "execution_count": 0,
      "outputs": []
    },
    {
      "cell_type": "code",
      "metadata": {
        "colab_type": "code",
        "id": "UBW_1GwsulVj",
        "colab": {}
      },
      "source": [
        "def draw_heatmap_2(\n",
        "    G=None,\n",
        "    pos=None,\n",
        "    letra='J'):\n",
        "  \n",
        "  letra_2=letra[:-4]\n",
        "  \n",
        "  heatmap_2=alt.Chart(to_pandas_edges(H,pos)).properties(\n",
        "    width=100,\n",
        "    height=100).mark_rect().encode(\n",
        "    alt.X('source:O',title=None),\n",
        "    alt.Y('target:O',title=None),\n",
        "    color=alt.Color(letra,scale=alt.Scale(domain=[0,1])),\n",
        "    tooltip=alt.Tooltip(letra)\n",
        ").properties(title=letra_2).interactive()\n",
        "\n",
        "  return(heatmap_2)"
      ],
      "execution_count": 0,
      "outputs": []
    },
    {
      "cell_type": "code",
      "metadata": {
        "id": "LiXQ8J4hPIPB",
        "colab_type": "code",
        "colab": {}
      },
      "source": [
        "def draw_networkx_slider(\n",
        "    G=None,\n",
        "    pos=None,\n",
        "    chart=None,\n",
        "    nodelist=None,\n",
        "    edgelist=None,\n",
        "    node_size=300,\n",
        "    node_color='red',\n",
        "    node_label=None,\n",
        "    font_color='black',\n",
        "    font_size=15,\n",
        "    alpha=1,\n",
        "    cmap=None,\n",
        "    width=1,\n",
        "    arrow_width=2,\n",
        "    arrow_length=.1,\n",
        "    edge_color='black',\n",
        "    arrow_color='black',\n",
        "    node_tooltip=None,\n",
        "    edge_tooltip=None,\n",
        "    edge_cmap=None):\n",
        "    \"\"\"Draw the graph G using Altair.\n",
        "    nodelist : list, optional (default G.nodes())\n",
        "       Draw only specified nodes\n",
        "    edgelist : list, optional (default=G.edges())\n",
        "       Draw only specified edges\n",
        "    node_size : scalar or array, optional (default=300)\n",
        "       Size of nodes.  If an array is specified it must be the\n",
        "       same length as nodelist.\n",
        "    node_color : color string, or array of floats, (default='r')\n",
        "       Node color. Can be a single color format string,\n",
        "       or a  sequence of colors with the same length as nodelist.\n",
        "       If numeric values are specified they will be mapped to\n",
        "       colors using the cmap and vmin,vmax parameters.  See\n",
        "       matplotlib.scatter for more details.\n",
        "    font_size : scalar or string\n",
        "       Size of nodes (default=15).  If an array is specified it must be the\n",
        "       same length as nodelist.\n",
        "    font_color : color string, or array of floats\n",
        "       Node color. Can be a single color format string (default='r'),\n",
        "       or a  sequence of colors with the same length as nodelist.\n",
        "       If numeric values are specified they will be mapped to\n",
        "       colors using the cmap and vmin,vmax parameters.  See\n",
        "       matplotlib.scatter for more details.\n",
        "    node_label : string\n",
        "       The name of the node attribute to treat as a label.\n",
        "    alpha : float, optional (default=1.0)\n",
        "       The node and edge transparency\n",
        "    cmap : Matplotlib colormap, optional (default=None)\n",
        "       Colormap for mapping intensities of nodes\n",
        "    width : float, optional (default=1.0)\n",
        "       Line width of edges\n",
        "    arrow_width : float, optional (default=2.0)\n",
        "       The width of arrow portions of edges.\n",
        "    arrow_length : float, optional (default=.1)\n",
        "       The perportion of the line to be occupied by the arrow.\n",
        "    edge_color : color string, or array of floats (default='r')\n",
        "       Edge color. Can be a single color format string,\n",
        "       or a sequence of colors with the same length as edgelist.\n",
        "       If numeric values are specified they will be mapped to\n",
        "       colors using the edge_cmap and edge_vmin,edge_vmax parameters.\n",
        "    arrow_color : color string, or array of floats (default='r')\n",
        "       Arrow color. Can be a single color format string,\n",
        "       or a sequence of colors with the same length as edgelist.\n",
        "       If numeric values are specified they will be mapped to\n",
        "       colors using the edge_cmap and edge_vmin,edge_vmax parameters.\n",
        "    edge_cmap : Matplotlib colormap, optional (default=None)\n",
        "       Colormap for mapping intensities of edges\n",
        "    \"\"\"\n",
        "    slider=alt.binding_range(min=0,max=1,step=0.05)\n",
        "    select_M=alt.selection_single(name='RangeMin',fields=['M'], bind=slider, init={'M':0.5})\n",
        "    select_M_2=alt.selection_single(name='RangeMax',fields=['M'], bind=slider, init={'M':0.9})\n",
        "    highlightNode = alt.selection_interval(name='brush_fin',empty='all')\n",
        "    \n",
        "\n",
        "    # Draw edges\n",
        "    \n",
        "    \n",
        "    if len(G.edges())>0:\n",
        "      base=alt.Chart(to_pandas_edges(G,pos))\n",
        "      a=base.mark_line(stroke='grey', strokeOpacity=0.5).encode(\n",
        "      alt.X('x',type='quantitative'),\n",
        "      alt.Y('y',type='quantitative'),\n",
        "      order=alt.Order('edge',type='nominal')).add_selection(highlightNode,select_M,select_M_2).transform_filter(\n",
        "                \"datum.M > RangeMin_M\"\n",
        "                ).transform_filter(\n",
        "                \"datum.M < RangeMax_M\"\n",
        "                )\n",
        "      b=draw_networkx_edges(G,pos,edgelist=edgelist,\n",
        "            alpha=alpha,\n",
        "            width=width,\n",
        "            edge_color=edge_color,\n",
        "            edge_cmap=edge_cmap,\n",
        "            tooltip=edge_tooltip\n",
        "            )\n",
        "      b=b.transform_lookup('edge',from_=alt.LookupSelection(selection='brush_fin',key='edge'), as_='highlightEdges').transform_filter('datum.highlightEdges').transform_filter(\n",
        "                \"datum.M > RangeMin_M\"\n",
        "                ).transform_filter(\n",
        "                \"datum.M < RangeMax_M\"\n",
        "                )\n",
        "      \n",
        "        #######################################\n",
        "      edges_radio=alt.layer(draw_heatmap_1(\n",
        "            G,\n",
        "            pos,\n",
        "            letra='radio_int'\n",
        "            ).transform_filter(\n",
        "                \"datum.M > RangeMin_M\"\n",
        "                ).transform_filter(\n",
        "                \"datum.M < RangeMax_M\"\n",
        "                ).transform_filter( highlightNode ),draw_heatmap_2(\n",
        "            G,\n",
        "            pos,\n",
        "            letra='radio_int'\n",
        "            ).transform_filter(\n",
        "                \"datum.M > RangeMin_M\"\n",
        "                ).transform_filter(\n",
        "                \"datum.M < RangeMax_M\"\n",
        "                ).transform_filter( highlightNode ))\n",
        "\n",
        "      edges_D=draw_networkx_edges_mark_bar(\n",
        "            G,\n",
        "            pos,\n",
        "            letra='mean(D_int)').transform_filter(\n",
        "                \"datum.M > RangeMin_M\"\n",
        "                ).transform_filter(\n",
        "                \"datum.M < RangeMax_M\"\n",
        "                ).transform_filter(highlightNode)\n",
        "\n",
        "      edges_Gauss=draw_networkx_edges_mark_bar(\n",
        "            G,\n",
        "            pos,\n",
        "            letra='mean(Gauss_int)'\n",
        "            ).transform_filter(\n",
        "                \"datum.M > RangeMin_M\"\n",
        "                ).transform_filter(\n",
        "                \"datum.M < RangeMax_M\"\n",
        "                ).transform_filter(highlightNode)\n",
        "\n",
        "      edges_G=draw_networkx_edges_mark_bar(\n",
        "            G,\n",
        "            pos,\n",
        "            letra='mean(GG_int)'\n",
        "            ).transform_filter(\n",
        "                \"datum.M > RangeMin_M\"\n",
        "                ).transform_filter(\n",
        "                \"datum.M < RangeMax_M\"\n",
        "                ).transform_filter(highlightNode)\n",
        "\n",
        "      edges_Sex=draw_networkx_edges_circle_point(\n",
        "            G,\n",
        "            pos,\n",
        "            letra='Sex_int'\n",
        "            ).transform_filter(\n",
        "                \"datum.M > RangeMin_M\"\n",
        "                ).transform_filter(\n",
        "                \"datum.M < RangeMax_M\"\n",
        "                ).transform_filter(highlightNode).interactive()\n",
        "\n",
        "      edges_Role=draw_networkx_edges_circle_point(\n",
        "            G,\n",
        "            pos,\n",
        "            letra='Role_int'\n",
        "            ).transform_filter(\n",
        "                \"datum.M > RangeMin_M\"\n",
        "                ).transform_filter(\n",
        "                \"datum.M < RangeMax_M\"\n",
        "                ).transform_filter(highlightNode).interactive()\n",
        "\n",
        "      edges_Occupation=draw_networkx_edges_circle_point(\n",
        "            G,\n",
        "            pos,\n",
        "            letra='Occupation_int'\n",
        "            ).transform_filter(\n",
        "                \"datum.M > RangeMin_M\"\n",
        "                ).transform_filter(\n",
        "                \"datum.M < RangeMax_M\"\n",
        "                ).transform_filter(highlightNode).interactive()\n",
        "        ######################################\n",
        "        \n",
        "\n",
        "      if isinstance(G, nx.DiGraph):\n",
        "            # Draw edges\n",
        "            arrows = draw_networkx_arrows(\n",
        "                G,\n",
        "                pos,\n",
        "                edgelist=edgelist,\n",
        "                alpha=alpha,\n",
        "                arrow_width=arrow_width,\n",
        "                arrow_length=arrow_length,\n",
        "                edge_color=arrow_color,\n",
        "                edge_cmap=edge_cmap,\n",
        "                tooltip=edge_tooltip,\n",
        "                )\n",
        "\n",
        "    # Draw nodes\n",
        "    if len(G.nodes())>0:\n",
        "        nodes = draw_networkx_nodes(\n",
        "            G,\n",
        "            pos,\n",
        "            nodelist=nodelist,\n",
        "            node_size=node_size,\n",
        "            node_color=node_color,\n",
        "            alpha=alpha,\n",
        "            cmap=cmap,\n",
        "            tooltip=node_tooltip,\n",
        "            brush=highlightNode\n",
        "        )\n",
        "        \n",
        "        # Draw node labels:\n",
        "        if node_label:\n",
        "            labels = draw_networkx_labels(\n",
        "                G,\n",
        "                pos,\n",
        "                nodelist=nodelist,\n",
        "                font_size=font_size,\n",
        "                font_color=font_color,\n",
        "                node_label=node_label\n",
        "            )\n",
        "\n",
        "    # Layer the chart\n",
        "        viz = []\n",
        "        if len(G.edges()):\n",
        "            viz.append(b)\n",
        "            if isinstance(G, nx.DiGraph):\n",
        "              viz.append(arrows)\n",
        "\n",
        "        if len(G.nodes()):\n",
        "            viz.append(nodes)\n",
        "            if node_label:\n",
        "                viz.append(labels)\n",
        "\n",
        "        if viz:\n",
        "            viz = alt.layer(*viz)\n",
        "            viz=alt.layer(viz)\n",
        "        else:\n",
        "            raise ValueError(\"G does not contain any nodes or edges.\")\n",
        "\n",
        "    # Remove ticks, axis, labels, etc.\n",
        "        \n",
        "    return alt.layer(a,b,nodes,labels)|edges_radio&edges_G&edges_Sex|edges_Gauss&edges_D&(edges_Role|edges_Occupation)"
      ],
      "execution_count": 0,
      "outputs": []
    },
    {
      "cell_type": "code",
      "metadata": {
        "colab_type": "code",
        "id": "V6ysg_pCLJgp",
        "colab": {}
      },
      "source": [
        "# Generate a random graph\n",
        "H = nx.Graph()\n",
        "\n",
        "for i in range(839,840):\n",
        "  indx_1=i\n",
        "  name_1=indx2person[i]\n",
        "  for t in range(len(indx2role[i].keys())):\n",
        "    depo_1_list=list(indx2role[i].keys())\n",
        "    depo_1=depo_1_list[t]\n",
        "    for j in range(i,840):\n",
        "      indx_2=j\n",
        "      name_2=indx2person[j]\n",
        "      for l in range(len(indx2role[j].keys())):\n",
        "        depo_2_list=list(indx2role[j].keys())\n",
        "        depo_2=depo_2_list[l]\n",
        "        if i==j and l<=t:\n",
        "          pass\n",
        "        else:\n",
        "          tuple_1=str(i)+str(depo_1)\n",
        "          tuple_2=str(j)+str(depo_2)\n",
        "          Ms=M_2(name_1,depo_1,name_2,depo_2)\n",
        "          radio_int=ratio(name_1,name_2)  \n",
        "          Gauss_int=Gauss(depo_1,depo_2)\n",
        "          GG_int=GG(depo_1,depo_2)\n",
        "          D_int=D(depo_1,depo_2)\n",
        "          Sex_int=Sex(name_1,depo_1,name_2,depo_2)\n",
        "          Role_int=Role(name_1,depo_1,name_2,depo_2)\n",
        "          Occupation_int=Occupation(name_1,depo_1,name_2,depo_2)\n",
        "          H.add_edge(tuple_1,tuple_2,radio_int=radio_int,M=Ms,Gauss_int=Gauss_int,GG_int=GG_int,D_int=D_int,Sex_int=Sex_int,Role_int=Role_int,Occupation_int=Occupation_int,y_point=1)\n",
        "pos = nx.kamada_kawai_layout(H,weight='M')\n",
        "\n",
        "for n in H.nodes():\n",
        "  H.nodes[n]['name'] = n"
      ],
      "execution_count": 0,
      "outputs": []
    },
    {
      "cell_type": "code",
      "metadata": {
        "id": "lBrzmpmyY_Xy",
        "colab_type": "code",
        "colab": {}
      },
      "source": [
        "draw_networkx_slider(H,pos,node_label='name',node_color='#9ecae1',edge_color='M:N',node_tooltip='name',edge_cmap='yelloworangered',width='M:N')"
      ],
      "execution_count": 0,
      "outputs": []
    },
    {
      "cell_type": "code",
      "metadata": {
        "id": "rafH_1GX04-y",
        "colab_type": "code",
        "colab": {}
      },
      "source": [
        "#Esto está hecho para sacar las personas que tenían más de un sexo diferente asociado\n",
        "#for i in range(len(indx2role)):\n",
        "#  dictionary=indx2role[i]\n",
        "#  nombre=indx2person[i]\n",
        "#  sexos=list()\n",
        "#  a=0\n",
        "#  for key in dictionary.keys():\n",
        "#    sexo=int(obtain_sex(nombre,key))\n",
        "#    if sexo==2 or sexo==1 and sexo not in sexos and len(sexos)==0:\n",
        "#      sexos.append(sexo)\n",
        "#    elif sexo==2 or sexo==1 and sexo not in sexos and len(sexos)==1:\n",
        "#      sexos.append(sexo)\n",
        "#      a=7\n",
        "#    if a==7:\n",
        "#      print(i)\n",
        "#      break\n"
      ],
      "execution_count": 0,
      "outputs": []
    },
    {
      "cell_type": "code",
      "metadata": {
        "id": "e7THm6cS0VGI",
        "colab_type": "code",
        "colab": {}
      },
      "source": [
        "#contador_bien=0\n",
        "#contador_mal=0\n",
        "#contador_no_sabe=0\n",
        "#contador_total=0\n",
        "#for deposition in range(7):\n",
        "#  for persona in depositions_df.iloc[deposition]['people_list']:\n",
        "#    if 'forename' in persona.keys() and 'sex' in persona.keys():\n",
        "#      nombre=persona['forename']\n",
        "#      sexo=int(persona['sex'])\n",
        "#      sexo_estim=gender.Detector().get_gender(nombre)\n",
        "#      if sexo_estim=='male' or sexo_estim=='mostly_male':\n",
        "#        sexo_estim=1\n",
        "#     elif sexo_estim=='female' or sexo_estim=='mostly_female':\n",
        "#       sexo_estim=2\n",
        "#      else:\n",
        "#        sexo_estim=3\n",
        "#      if sexo==sexo_estim and sexo!=3:\n",
        "#        contador_bien+=1\n",
        "#      elif sexo==3:\n",
        "#       contador_no_sabe+=1\n",
        "#    elif sexo!=3 and sexo!=sexo_estim:\n",
        "#        contador_mal+=1\n",
        "\n",
        "      \n",
        "\n",
        "      "
      ],
      "execution_count": 0,
      "outputs": []
    },
    {
      "cell_type": "code",
      "metadata": {
        "id": "boyQcYxjd7SR",
        "colab_type": "code",
        "colab": {}
      },
      "source": [
        ""
      ],
      "execution_count": 0,
      "outputs": []
    }
  ]
}